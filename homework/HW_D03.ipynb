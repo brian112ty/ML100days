{
 "cells": [
  {
   "cell_type": "markdown",
   "metadata": {
    "id": "48DhzHvBUB2c"
   },
   "source": [
    "題目:<br>\n",
    "name_list = ['小明','小華','小菁','小美','小張','John','Mark','Tom']<br>\n",
    "sex_list = ['boy','boy','girl','girl','boy','boy','boy','boy']<br>\n",
    "weight_list = [67.5,75.3,50.1,45.5,80.8,90.4,78.4,70.7]<br>\n",
    "rank_list = [8,1,5,4,7,6,2,3]<br>\n",
    "myopia_list = [True,True,False,False,True,True,False,False]<br>\n",
    "1. 將上列list依照['name', 'sex', 'weight', 'rank', 'myopia']順序擺入array，並且資料型態順序擺入[Unicode,Unicode,float,int,boolean]<br>\n",
    "2. 呈上題，將array中體重(weight)數據集取出算出全部平均體重\n",
    "3. 呈上題，進一步算出男生(sex欄位是boy)平均體重、女生(sex欄位是girl)平均體重\n"
   ]
  },
  {
   "cell_type": "code",
   "execution_count": null,
   "metadata": {
    "id": "5n4rAx-9VgVr"
   },
   "outputs": [],
   "source": [
    "import numpy as np "
   ]
  },
  {
   "cell_type": "code",
   "execution_count": 7,
   "metadata": {
    "executionInfo": {
     "elapsed": 1150,
     "status": "ok",
     "timestamp": 1609855530738,
     "user": {
      "displayName": "献竤黃",
      "photoUrl": "",
      "userId": "07529243043474362942"
     },
     "user_tz": -480
    },
    "id": "Vl-wSYQdUBcw"
   },
   "outputs": [
    {
     "data": {
      "text/plain": [
       "array([('小明', 'boy', 67.5, 8,  True), ('小華', 'boy', 75.3, 1,  True),\n",
       "       ('小菁', 'girl', 50.1, 5, False), ('小美', 'girl', 45.5, 4, False),\n",
       "       ('小張', 'boy', 80.8, 7,  True), ('John', 'boy', 90.4, 6,  True),\n",
       "       ('Mark', 'boy', 78.4, 2, False), ('Tom', 'boy', 70.7, 3, False)],\n",
       "      dtype=[('name', '<U10'), ('sex', '<U6'), ('weight', '<f8'), ('rank', '<i4'), ('myopia', '?')])"
      ]
     },
     "execution_count": 7,
     "metadata": {},
     "output_type": "execute_result"
    }
   ],
   "source": [
    "import numpy as np \n",
    "name_list = ['小明','小華','小菁','小美','小張','John','Mark','Tom']\n",
    "sex_list = ['boy','boy','girl','girl','boy','boy','boy','boy']\n",
    "weight_list = [67.5,75.3,50.1,45.5,80.8,90.4,78.4,70.7]\n",
    "rank_list = [8,1,5,4,7,6,2,3]\n",
    "myopia_list = [True,True,False,False,True,True,False,False]\n",
    "student_type = {'names':('name', 'sex', 'weight', 'rank', 'myopia'), 'formats':('U10','U6','f8','i4','?')}\n",
    "students = np.zeros(8,dtype=student_type)\n",
    "students['name'] = name_list\n",
    "students['sex'] = sex_list\n",
    "students['weight'] = weight_list\n",
    "students['rank'] = rank_list\n",
    "students['myopia'] = myopia_list\n",
    "students"
   ]
  },
  {
   "cell_type": "code",
   "execution_count": 15,
   "metadata": {
    "executionInfo": {
     "elapsed": 1604,
     "status": "ok",
     "timestamp": 1609855531207,
     "user": {
      "displayName": "献竤黃",
      "photoUrl": "",
      "userId": "07529243043474362942"
     },
     "user_tz": -480
    },
    "id": "N-xffNSVWbP1"
   },
   "outputs": [
    {
     "data": {
      "text/plain": [
       "69.8375"
      ]
     },
     "execution_count": 15,
     "metadata": {},
     "output_type": "execute_result"
    }
   ],
   "source": [
    "np.mean(students['weight'])"
   ]
  },
  {
   "cell_type": "code",
   "execution_count": 16,
   "metadata": {
    "executionInfo": {
     "elapsed": 1597,
     "status": "ok",
     "timestamp": 1609855531208,
     "user": {
      "displayName": "献竤黃",
      "photoUrl": "",
      "userId": "07529243043474362942"
     },
     "user_tz": -480
    },
    "id": "_LhLg8RiWwEm"
   },
   "outputs": [
    {
     "data": {
      "text/plain": [
       "77.18333333333332"
      ]
     },
     "execution_count": 16,
     "metadata": {},
     "output_type": "execute_result"
    }
   ],
   "source": [
    "boy_index = np.where(students['sex']=='boy')[0]\n",
    "np.mean(students['weight'][boy_index])"
   ]
  },
  {
   "cell_type": "code",
   "execution_count": 17,
   "metadata": {
    "executionInfo": {
     "elapsed": 1589,
     "status": "ok",
     "timestamp": 1609855531208,
     "user": {
      "displayName": "献竤黃",
      "photoUrl": "",
      "userId": "07529243043474362942"
     },
     "user_tz": -480
    },
    "id": "f_J05IPxX6fg"
   },
   "outputs": [
    {
     "data": {
      "text/plain": [
       "47.8"
      ]
     },
     "execution_count": 17,
     "metadata": {},
     "output_type": "execute_result"
    }
   ],
   "source": [
    "girl_index = np.where(students['sex']=='girl')[0]\n",
    "np.mean(students['weight'][girl_index])"
   ]
  },
  {
   "cell_type": "code",
   "execution_count": null,
   "metadata": {},
   "outputs": [],
   "source": [
    "# np.zeros產生絕對的0,而np.empty可以產生以自然數的形式的數據"
   ]
  }
 ],
 "metadata": {
  "colab": {
   "authorship_tag": "ABX9TyNNd2manzsOXZcJaj/0VOeZ",
   "collapsed_sections": [],
   "name": "作業_Hong解答.ipynb",
   "provenance": []
  },
  "kernelspec": {
   "display_name": "Python 3",
   "language": "python",
   "name": "python3"
  },
  "language_info": {
   "codemirror_mode": {
    "name": "ipython",
    "version": 3
   },
   "file_extension": ".py",
   "mimetype": "text/x-python",
   "name": "python",
   "nbconvert_exporter": "python",
   "pygments_lexer": "ipython3",
   "version": "3.8.5"
  }
 },
 "nbformat": 4,
 "nbformat_minor": 1
}
